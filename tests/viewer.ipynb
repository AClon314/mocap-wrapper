{
 "cells": [
  {
   "cell_type": "code",
   "execution_count": 3,
   "metadata": {},
   "outputs": [],
   "source": [
    "import torch\n",
    "import pickle\n",
    "\n",
    "GLOBAL = {}\n",
    "def load_pt(file):\n",
    "    data = torch.load(file)\n",
    "    return data\n",
    "\n",
    "def load_pkl(file_path):\n",
    "    with open(file_path, 'rb') as f:\n",
    "        data = pickle.load(f)\n",
    "    return data\n",
    "    \n",
    "def load(file):\n",
    "    if file.endswith('.pt'):\n",
    "        data = load_pt(file)\n",
    "    elif file.endswith('.pkl'):\n",
    "        data = load_pkl(file)\n",
    "    return data\n",
    "\n",
    "def expand_dict(data):\n",
    "    for k, v in data.items():\n",
    "        if isinstance(v, dict):\n",
    "            expand_dict(v)\n",
    "        else:\n",
    "            if isinstance(v, torch.Tensor) and v.size(0) == 1:\n",
    "                v = v.squeeze(0)\n",
    "            GLOBAL[k] = v\n",
    "\n",
    "def get_global(data):\n",
    "    expand_dict(data)\n",
    "    globals().update(GLOBAL)"
   ]
  },
  {
   "cell_type": "code",
   "execution_count": null,
   "metadata": {
    "tags": [
     "test"
    ]
   },
   "outputs": [],
   "source": [
    "get_global(load('/home/n/document/code/GVHMR/output/demo/tennis/hmr4d_results.pt'))"
   ]
  }
 ],
 "metadata": {
  "kernelspec": {
   "display_name": "mocap",
   "language": "python",
   "name": "python3"
  },
  "language_info": {
   "codemirror_mode": {
    "name": "ipython",
    "version": 3
   },
   "file_extension": ".py",
   "mimetype": "text/x-python",
   "name": "python",
   "nbconvert_exporter": "python",
   "pygments_lexer": "ipython3",
   "version": "3.10.16"
  }
 },
 "nbformat": 4,
 "nbformat_minor": 2
}
