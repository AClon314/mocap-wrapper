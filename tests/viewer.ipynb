{
 "cells": [
  {
   "cell_type": "code",
   "execution_count": 5,
   "metadata": {},
   "outputs": [],
   "source": [
    "import torch\n",
    "import pickle\n",
    "\n",
    "GLOBAL = {}\n",
    "def load_pt(file):\n",
    "    data = torch.load(file)\n",
    "    return data\n",
    "\n",
    "def load_pkl(file_path):\n",
    "    with open(file_path, 'rb') as f:\n",
    "        data = pickle.load(f)\n",
    "    return data\n",
    "    \n",
    "def load(file):\n",
    "    if file.endswith('.pt'):\n",
    "        data = load_pt(file)\n",
    "    elif file.endswith('.pkl'):\n",
    "        data = load_pkl(file)\n",
    "    return data\n",
    "\n",
    "def expand_dict(data,prefix=''):\n",
    "    for k, v in data.items():\n",
    "        if isinstance(v, dict):\n",
    "            expand_dict(v,f'{prefix}{k}一')\n",
    "        else:\n",
    "            if isinstance(v, torch.Tensor) and v.size(0) == 1:\n",
    "                print(f'squeezed: {prefix}{k}')\n",
    "                v = v.squeeze(0)\n",
    "            GLOBAL[f'{prefix}{k}'] = v\n",
    "\n",
    "def get_global(data):\n",
    "    expand_dict(data)\n",
    "    globals().update(GLOBAL)\n"
   ]
  },
  {
   "cell_type": "code",
   "execution_count": 6,
   "metadata": {},
   "outputs": [
    {
     "name": "stdout",
     "output_type": "stream",
     "text": [
      "squeezed: net_outputs一model_output一pred_context\n",
      "squeezed: net_outputs一model_output一pred_x\n",
      "squeezed: net_outputs一model_output一pred_cam\n",
      "squeezed: net_outputs一model_output一static_conf_logits\n",
      "squeezed: net_outputs一decode_dict一body_pose\n",
      "squeezed: net_outputs一decode_dict一betas\n",
      "squeezed: net_outputs一decode_dict一global_orient\n",
      "squeezed: net_outputs一decode_dict一global_orient_gv\n",
      "squeezed: net_outputs一decode_dict一local_transl_vel\n",
      "squeezed: net_outputs一pred_smpl_params_incam一body_pose\n",
      "squeezed: net_outputs一pred_smpl_params_incam一betas\n",
      "squeezed: net_outputs一pred_smpl_params_incam一global_orient\n",
      "squeezed: net_outputs一pred_smpl_params_incam一transl\n",
      "squeezed: net_outputs一pred_smpl_params_global一body_pose\n",
      "squeezed: net_outputs一pred_smpl_params_global一betas\n",
      "squeezed: net_outputs一pred_smpl_params_global一global_orient\n",
      "squeezed: net_outputs一pred_smpl_params_global一transl\n",
      "squeezed: net_outputs一static_conf_logits\n"
     ]
    }
   ],
   "source": [
    "get_global(load('/home/n/document/code/GVHMR/output/demo/tennis/hmr4d_results.pt'))"
   ]
  }
 ],
 "metadata": {
  "kernelspec": {
   "display_name": "mocap",
   "language": "python",
   "name": "python3"
  },
  "language_info": {
   "codemirror_mode": {
    "name": "ipython",
    "version": 3
   },
   "file_extension": ".py",
   "mimetype": "text/x-python",
   "name": "python",
   "nbconvert_exporter": "python",
   "pygments_lexer": "ipython3",
   "version": "3.10.16"
  }
 },
 "nbformat": 4,
 "nbformat_minor": 2
}
