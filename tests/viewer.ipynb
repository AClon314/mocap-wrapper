{
 "cells": [
  {
   "cell_type": "code",
   "execution_count": 1,
   "metadata": {},
   "outputs": [],
   "source": [
    "import numpy as np\n",
    "import torch\n",
    "import pickle\n",
    "\n",
    "_GLOBAL = {}\n",
    "def load_pt(file):\n",
    "    data = torch.load(file)\n",
    "    return data\n",
    "\n",
    "def load_pkl(file):\n",
    "    with open(file, 'rb') as f:\n",
    "        data = pickle.load(f)\n",
    "    return data\n",
    "\n",
    "def load_np(file):\n",
    "    return np.load(file)\n",
    "    \n",
    "def load(file):\n",
    "    if file.endswith('.pt'):\n",
    "        data = load_pt(file)\n",
    "    elif file.endswith('.pkl'):\n",
    "        data = load_pkl(file)\n",
    "    return data\n",
    "\n",
    "def expand_dict(data,prefix=''):\n",
    "    for k, v in data.items():\n",
    "        if isinstance(v, dict):\n",
    "            expand_dict(v,f'{prefix}{k}一')\n",
    "        else:\n",
    "            if isinstance(v, torch.Tensor) and v.size(0) == 1:\n",
    "                print(f'squeezed: {prefix}{k}')\n",
    "                v = v.squeeze(0)\n",
    "            _GLOBAL[f'{prefix}{k}'] = v\n",
    "\n",
    "def get_global(data):\n",
    "    expand_dict(data)\n",
    "    globals().update(_GLOBAL)\n"
   ]
  },
  {
   "cell_type": "code",
   "execution_count": 2,
   "metadata": {},
   "outputs": [],
   "source": [
    "_file = '/home/n/document/code/GVHMR/output/demo/背越式跳高（慢动作）/preprocess/bbx_0.pt'\n",
    "get_global(load(_file))"
   ]
  }
 ],
 "metadata": {
  "kernelspec": {
   "display_name": "mocap",
   "language": "python",
   "name": "python3"
  },
  "language_info": {
   "codemirror_mode": {
    "name": "ipython",
    "version": 3
   },
   "file_extension": ".py",
   "mimetype": "text/x-python",
   "name": "python",
   "nbconvert_exporter": "python",
   "pygments_lexer": "ipython3",
   "version": "3.10.16"
  }
 },
 "nbformat": 4,
 "nbformat_minor": 2
}
